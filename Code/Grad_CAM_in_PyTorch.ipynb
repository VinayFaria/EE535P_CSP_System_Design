{
  "nbformat": 4,
  "nbformat_minor": 0,
  "metadata": {
    "colab": {
      "name": "Grad-CAM in PyTorch.ipynb",
      "provenance": [],
      "collapsed_sections": [
        "usla2PjoLQEY"
      ]
    },
    "kernelspec": {
      "name": "python3",
      "display_name": "Python 3"
    },
    "language_info": {
      "name": "python"
    },
    "widgets": {
      "application/vnd.jupyter.widget-state+json": {
        "772e144f39f94ebf97460471eda60240": {
          "model_module": "@jupyter-widgets/controls",
          "model_name": "HBoxModel",
          "model_module_version": "1.5.0",
          "state": {
            "_view_name": "HBoxView",
            "_dom_classes": [],
            "_model_name": "HBoxModel",
            "_view_module": "@jupyter-widgets/controls",
            "_model_module_version": "1.5.0",
            "_view_count": null,
            "_view_module_version": "1.5.0",
            "box_style": "",
            "layout": "IPY_MODEL_8ed712eb097b4a6e965ed1fc2289199e",
            "_model_module": "@jupyter-widgets/controls",
            "children": [
              "IPY_MODEL_48e39701e46d412e8181d3d58cee52ca",
              "IPY_MODEL_db3785e6975d46cd92a03754e441b554",
              "IPY_MODEL_9c5097d4026d416cbd791615c4e9b5ab"
            ]
          }
        },
        "8ed712eb097b4a6e965ed1fc2289199e": {
          "model_module": "@jupyter-widgets/base",
          "model_name": "LayoutModel",
          "model_module_version": "1.2.0",
          "state": {
            "_view_name": "LayoutView",
            "grid_template_rows": null,
            "right": null,
            "justify_content": null,
            "_view_module": "@jupyter-widgets/base",
            "overflow": null,
            "_model_module_version": "1.2.0",
            "_view_count": null,
            "flex_flow": null,
            "width": null,
            "min_width": null,
            "border": null,
            "align_items": null,
            "bottom": null,
            "_model_module": "@jupyter-widgets/base",
            "top": null,
            "grid_column": null,
            "overflow_y": null,
            "overflow_x": null,
            "grid_auto_flow": null,
            "grid_area": null,
            "grid_template_columns": null,
            "flex": null,
            "_model_name": "LayoutModel",
            "justify_items": null,
            "grid_row": null,
            "max_height": null,
            "align_content": null,
            "visibility": null,
            "align_self": null,
            "height": null,
            "min_height": null,
            "padding": null,
            "grid_auto_rows": null,
            "grid_gap": null,
            "max_width": null,
            "order": null,
            "_view_module_version": "1.2.0",
            "grid_template_areas": null,
            "object_position": null,
            "object_fit": null,
            "grid_auto_columns": null,
            "margin": null,
            "display": null,
            "left": null
          }
        },
        "48e39701e46d412e8181d3d58cee52ca": {
          "model_module": "@jupyter-widgets/controls",
          "model_name": "HTMLModel",
          "model_module_version": "1.5.0",
          "state": {
            "_view_name": "HTMLView",
            "style": "IPY_MODEL_2a7d1a62c3a24b7fa78020a6333b55cb",
            "_dom_classes": [],
            "description": "",
            "_model_name": "HTMLModel",
            "placeholder": "​",
            "_view_module": "@jupyter-widgets/controls",
            "_model_module_version": "1.5.0",
            "value": "",
            "_view_count": null,
            "_view_module_version": "1.5.0",
            "description_tooltip": null,
            "_model_module": "@jupyter-widgets/controls",
            "layout": "IPY_MODEL_7645b9c732ea47978d79b16137a7868d"
          }
        },
        "db3785e6975d46cd92a03754e441b554": {
          "model_module": "@jupyter-widgets/controls",
          "model_name": "FloatProgressModel",
          "model_module_version": "1.5.0",
          "state": {
            "_view_name": "ProgressView",
            "style": "IPY_MODEL_9c4573d06e5e4f61a53952b645219cb8",
            "_dom_classes": [],
            "description": "",
            "_model_name": "FloatProgressModel",
            "bar_style": "success",
            "max": 135684,
            "_view_module": "@jupyter-widgets/controls",
            "_model_module_version": "1.5.0",
            "value": 135684,
            "_view_count": null,
            "_view_module_version": "1.5.0",
            "orientation": "horizontal",
            "min": 0,
            "description_tooltip": null,
            "_model_module": "@jupyter-widgets/controls",
            "layout": "IPY_MODEL_016b6f0dd9444a81bd1aee2b71c3a938"
          }
        },
        "9c5097d4026d416cbd791615c4e9b5ab": {
          "model_module": "@jupyter-widgets/controls",
          "model_name": "HTMLModel",
          "model_module_version": "1.5.0",
          "state": {
            "_view_name": "HTMLView",
            "style": "IPY_MODEL_a05354135d2142129f501909a0568e5f",
            "_dom_classes": [],
            "description": "",
            "_model_name": "HTMLModel",
            "placeholder": "​",
            "_view_module": "@jupyter-widgets/controls",
            "_model_module_version": "1.5.0",
            "value": " 136192/? [00:00&lt;00:00, 3216171.49it/s]",
            "_view_count": null,
            "_view_module_version": "1.5.0",
            "description_tooltip": null,
            "_model_module": "@jupyter-widgets/controls",
            "layout": "IPY_MODEL_b4cd2a986a4140e78c189589a32bbede"
          }
        },
        "2a7d1a62c3a24b7fa78020a6333b55cb": {
          "model_module": "@jupyter-widgets/controls",
          "model_name": "DescriptionStyleModel",
          "model_module_version": "1.5.0",
          "state": {
            "_view_name": "StyleView",
            "_model_name": "DescriptionStyleModel",
            "description_width": "",
            "_view_module": "@jupyter-widgets/base",
            "_model_module_version": "1.5.0",
            "_view_count": null,
            "_view_module_version": "1.2.0",
            "_model_module": "@jupyter-widgets/controls"
          }
        },
        "7645b9c732ea47978d79b16137a7868d": {
          "model_module": "@jupyter-widgets/base",
          "model_name": "LayoutModel",
          "model_module_version": "1.2.0",
          "state": {
            "_view_name": "LayoutView",
            "grid_template_rows": null,
            "right": null,
            "justify_content": null,
            "_view_module": "@jupyter-widgets/base",
            "overflow": null,
            "_model_module_version": "1.2.0",
            "_view_count": null,
            "flex_flow": null,
            "width": null,
            "min_width": null,
            "border": null,
            "align_items": null,
            "bottom": null,
            "_model_module": "@jupyter-widgets/base",
            "top": null,
            "grid_column": null,
            "overflow_y": null,
            "overflow_x": null,
            "grid_auto_flow": null,
            "grid_area": null,
            "grid_template_columns": null,
            "flex": null,
            "_model_name": "LayoutModel",
            "justify_items": null,
            "grid_row": null,
            "max_height": null,
            "align_content": null,
            "visibility": null,
            "align_self": null,
            "height": null,
            "min_height": null,
            "padding": null,
            "grid_auto_rows": null,
            "grid_gap": null,
            "max_width": null,
            "order": null,
            "_view_module_version": "1.2.0",
            "grid_template_areas": null,
            "object_position": null,
            "object_fit": null,
            "grid_auto_columns": null,
            "margin": null,
            "display": null,
            "left": null
          }
        },
        "9c4573d06e5e4f61a53952b645219cb8": {
          "model_module": "@jupyter-widgets/controls",
          "model_name": "ProgressStyleModel",
          "model_module_version": "1.5.0",
          "state": {
            "_view_name": "StyleView",
            "_model_name": "ProgressStyleModel",
            "description_width": "",
            "_view_module": "@jupyter-widgets/base",
            "_model_module_version": "1.5.0",
            "_view_count": null,
            "_view_module_version": "1.2.0",
            "bar_color": null,
            "_model_module": "@jupyter-widgets/controls"
          }
        },
        "016b6f0dd9444a81bd1aee2b71c3a938": {
          "model_module": "@jupyter-widgets/base",
          "model_name": "LayoutModel",
          "model_module_version": "1.2.0",
          "state": {
            "_view_name": "LayoutView",
            "grid_template_rows": null,
            "right": null,
            "justify_content": null,
            "_view_module": "@jupyter-widgets/base",
            "overflow": null,
            "_model_module_version": "1.2.0",
            "_view_count": null,
            "flex_flow": null,
            "width": null,
            "min_width": null,
            "border": null,
            "align_items": null,
            "bottom": null,
            "_model_module": "@jupyter-widgets/base",
            "top": null,
            "grid_column": null,
            "overflow_y": null,
            "overflow_x": null,
            "grid_auto_flow": null,
            "grid_area": null,
            "grid_template_columns": null,
            "flex": null,
            "_model_name": "LayoutModel",
            "justify_items": null,
            "grid_row": null,
            "max_height": null,
            "align_content": null,
            "visibility": null,
            "align_self": null,
            "height": null,
            "min_height": null,
            "padding": null,
            "grid_auto_rows": null,
            "grid_gap": null,
            "max_width": null,
            "order": null,
            "_view_module_version": "1.2.0",
            "grid_template_areas": null,
            "object_position": null,
            "object_fit": null,
            "grid_auto_columns": null,
            "margin": null,
            "display": null,
            "left": null
          }
        },
        "a05354135d2142129f501909a0568e5f": {
          "model_module": "@jupyter-widgets/controls",
          "model_name": "DescriptionStyleModel",
          "model_module_version": "1.5.0",
          "state": {
            "_view_name": "StyleView",
            "_model_name": "DescriptionStyleModel",
            "description_width": "",
            "_view_module": "@jupyter-widgets/base",
            "_model_module_version": "1.5.0",
            "_view_count": null,
            "_view_module_version": "1.2.0",
            "_model_module": "@jupyter-widgets/controls"
          }
        },
        "b4cd2a986a4140e78c189589a32bbede": {
          "model_module": "@jupyter-widgets/base",
          "model_name": "LayoutModel",
          "model_module_version": "1.2.0",
          "state": {
            "_view_name": "LayoutView",
            "grid_template_rows": null,
            "right": null,
            "justify_content": null,
            "_view_module": "@jupyter-widgets/base",
            "overflow": null,
            "_model_module_version": "1.2.0",
            "_view_count": null,
            "flex_flow": null,
            "width": null,
            "min_width": null,
            "border": null,
            "align_items": null,
            "bottom": null,
            "_model_module": "@jupyter-widgets/base",
            "top": null,
            "grid_column": null,
            "overflow_y": null,
            "overflow_x": null,
            "grid_auto_flow": null,
            "grid_area": null,
            "grid_template_columns": null,
            "flex": null,
            "_model_name": "LayoutModel",
            "justify_items": null,
            "grid_row": null,
            "max_height": null,
            "align_content": null,
            "visibility": null,
            "align_self": null,
            "height": null,
            "min_height": null,
            "padding": null,
            "grid_auto_rows": null,
            "grid_gap": null,
            "max_width": null,
            "order": null,
            "_view_module_version": "1.2.0",
            "grid_template_areas": null,
            "object_position": null,
            "object_fit": null,
            "grid_auto_columns": null,
            "margin": null,
            "display": null,
            "left": null
          }
        }
      }
    }
  },
  "cells": [
    {
      "cell_type": "markdown",
      "source": [
        "Reference: https://medium.com/@stepanulyanin/implementing-grad-cam-in-pytorch-ea0937c31e82\n",
        "\n",
        "Grad-CAM Research paper: https://arxiv.org/pdf/1610.02391.pdf\n",
        "\n",
        "ImageNet classes: https://deeplearning.cms.waikato.ac.nz/user-guide/class-maps/IMAGENET/"
      ],
      "metadata": {
        "id": "CqXfQYZaqLZ-"
      }
    },
    {
      "cell_type": "code",
      "source": [
        "# Imports\n",
        "import os\n",
        "import cv2\n",
        "import numpy as np\n",
        "import torch\n",
        "import torch.nn as nn\n",
        "from torch.utils import data\n",
        "from torchvision.models import vgg19\n",
        "from torchvision import transforms\n",
        "from torchvision.datasets import ImageFolder\n",
        "import matplotlib.pyplot as plt"
      ],
      "metadata": {
        "id": "HDiK6_uULCp8"
      },
      "execution_count": 1,
      "outputs": []
    },
    {
      "cell_type": "code",
      "source": [
        "# Download dataset\n",
        "from torchvision.datasets.utils import download_url\n",
        "#dataset_url = \"https://www.bestelectricbikes.com/wp-content/uploads/2021/03/Bike_Brake_Repair_Banner_Photo-1-1024x683.jpg\"\n",
        "#dataset_url = \"https://www.zhsydz.com/wp-content/uploads/2020/01/electric-commuter-bike-1000x500.jpg\"\n",
        "dataset_url = \"https://cdn.britannica.com/q:60/82/212182-050-50D9F3CE/basketball-LeBron-James-Cleveland-Cavaliers-2018.jpg\"\n",
        "data_dir = './data/test_folder/'    # dataset directory\n",
        "download_url(dataset_url, data_dir) "
      ],
      "metadata": {
        "id": "5fzW0kjs730P",
        "colab": {
          "base_uri": "https://localhost:8080/",
          "height": 86,
          "referenced_widgets": [
            "772e144f39f94ebf97460471eda60240",
            "8ed712eb097b4a6e965ed1fc2289199e",
            "48e39701e46d412e8181d3d58cee52ca",
            "db3785e6975d46cd92a03754e441b554",
            "9c5097d4026d416cbd791615c4e9b5ab",
            "2a7d1a62c3a24b7fa78020a6333b55cb",
            "7645b9c732ea47978d79b16137a7868d",
            "9c4573d06e5e4f61a53952b645219cb8",
            "016b6f0dd9444a81bd1aee2b71c3a938",
            "a05354135d2142129f501909a0568e5f",
            "b4cd2a986a4140e78c189589a32bbede"
          ]
        },
        "outputId": "1ebeae2c-3f02-46a0-bc25-1522a8c471ca"
      },
      "execution_count": 2,
      "outputs": [
        {
          "output_type": "stream",
          "name": "stdout",
          "text": [
            "Downloading https://cdn.britannica.com/q:60/82/212182-050-50D9F3CE/basketball-LeBron-James-Cleveland-Cavaliers-2018.jpg to ./data/test_folder/basketball-LeBron-James-Cleveland-Cavaliers-2018.jpg\n"
          ]
        },
        {
          "output_type": "display_data",
          "data": {
            "application/vnd.jupyter.widget-view+json": {
              "model_id": "772e144f39f94ebf97460471eda60240",
              "version_minor": 0,
              "version_major": 2
            },
            "text/plain": [
              "  0%|          | 0/135684 [00:00<?, ?it/s]"
            ]
          },
          "metadata": {}
        }
      ]
    },
    {
      "cell_type": "code",
      "source": [
        "for img in os.listdir(data_dir):\n",
        "    filename = img\n",
        "image = cv2.imread(os.path.join(data_dir, filename))\n",
        "\n",
        "print('The image', '\"', filename, '\"', 'is of shape', image.shape)"
      ],
      "metadata": {
        "colab": {
          "base_uri": "https://localhost:8080/"
        },
        "id": "rnVvYFBpLi47",
        "outputId": "f5073d1a-471b-42a8-ff6d-18a23f609ca6"
      },
      "execution_count": 4,
      "outputs": [
        {
          "output_type": "stream",
          "name": "stdout",
          "text": [
            "The image \" basketball-LeBron-James-Cleveland-Cavaliers-2018.jpg \" is of shape (1600, 1120, 3)\n"
          ]
        }
      ]
    },
    {
      "cell_type": "code",
      "execution_count": 5,
      "metadata": {
        "id": "wnSWdiDYqHtF"
      },
      "outputs": [],
      "source": [
        "# use the ImageNet transformation\n",
        "# mean and standard deviation use are of ImageNet training datasets.\n",
        "transform = transforms.Compose([transforms.Resize((224, 224)), \n",
        "                                transforms.ToTensor(),\n",
        "                                transforms.Normalize(mean=[0.485, 0.456, 0.406], std=[0.229, 0.224, 0.225])])\n",
        "\n",
        "# define a 1 image dataset\n",
        "dataset = ImageFolder('./data/', transform=transform)\n",
        "\n",
        "# define the dataloader to load that single image\n",
        "dataloader = data.DataLoader(dataset=dataset, shuffle=False, batch_size=1)"
      ]
    },
    {
      "cell_type": "code",
      "source": [
        "# Displaying resized image. Resized image is for getting prediction from VGG19 model\n",
        "img, img_number = next(iter(dataloader))\n",
        "RGB_img = img[0]\n",
        "plt.imshow(RGB_img.permute(1, 2, 0))"
      ],
      "metadata": {
        "id": "oaZ4xUqqwIMS",
        "colab": {
          "base_uri": "https://localhost:8080/",
          "height": 304
        },
        "outputId": "1c39855a-c0d4-4baa-96b7-dd33c4d5d8ab"
      },
      "execution_count": 10,
      "outputs": [
        {
          "output_type": "stream",
          "name": "stderr",
          "text": [
            "Clipping input data to the valid range for imshow with RGB data ([0..1] for floats or [0..255] for integers).\n"
          ]
        },
        {
          "output_type": "execute_result",
          "data": {
            "text/plain": [
              "<matplotlib.image.AxesImage at 0x7fbca8aa6b50>"
            ]
          },
          "metadata": {},
          "execution_count": 10
        },
        {
          "output_type": "display_data",
          "data": {
            "image/png": "[encoded data removed]",
            "text/plain": [
              "<Figure size 432x288 with 1 Axes>"
            ]
          },
          "metadata": {
            "needs_background": "light"
          }
        }
      ]
    },
    {
      "cell_type": "code",
      "source": [
        "# Extenstion of nn.Module for model\n",
        "class VGG(nn.Module):\n",
        "    def __init__(self):\n",
        "        super(VGG, self).__init__()\n",
        "        \n",
        "        # get the pretrained VGG19 network\n",
        "        self.vgg = vgg19(pretrained=True)\n",
        "        \n",
        "        # disect the network to access its last convolutional layer\n",
        "        self.features_conv = self.vgg.features[:36]\n",
        "        \n",
        "        # get the max pool of the features stem\n",
        "        self.max_pool = nn.MaxPool2d(kernel_size=2, stride=2, padding=0, dilation=1, ceil_mode=False)\n",
        "        \n",
        "        # get the classifier of the vgg19\n",
        "        self.classifier = self.vgg.classifier\n",
        "        \n",
        "        # placeholder for the gradients\n",
        "        self.gradients = None\n",
        "    \n",
        "    # hook for the gradients of the activations\n",
        "    def activations_hook(self, grad):\n",
        "        self.gradients = grad\n",
        "        \n",
        "    def forward(self, x):\n",
        "        # forward propagate the image through the CNN part of the model\n",
        "        x = self.features_conv(x)\n",
        "        \n",
        "        # register the hook\n",
        "        h = x.register_hook(self.activations_hook)\n",
        "        \n",
        "        # apply the remaining pooling\n",
        "        x = self.max_pool(x)\n",
        "\n",
        "        # Flattening x so that input is appropriate for classifier layer\n",
        "        x = x.view((1, -1))\n",
        "\n",
        "        # getting the class score for input image\n",
        "        x = self.classifier(x)\n",
        "        return x\n",
        "    \n",
        "    # method for the gradient extraction\n",
        "    def get_activations_gradient(self):\n",
        "        return self.gradients\n",
        "    \n",
        "    # method for the activation exctraction\n",
        "    def get_activations(self, x):\n",
        "        return self.features_conv(x)"
      ],
      "metadata": {
        "id": "_RVrG2r6qaPs"
      },
      "execution_count": 24,
      "outputs": []
    },
    {
      "cell_type": "code",
      "source": [
        "# initialize the VGG model\n",
        "vgg = VGG()\n",
        "\n",
        "# set the evaluation mode\n",
        "vgg.eval()\n",
        "\n",
        "# get the image from the dataloader\n",
        "img, _ = next(iter(dataloader))\n",
        "\n",
        "# get the most likely prediction of the model\n",
        "pred = vgg(img)"
      ],
      "metadata": {
        "id": "CxhYAc3cqe_8"
      },
      "execution_count": 25,
      "outputs": []
    },
    {
      "cell_type": "code",
      "source": [
        "pip install git+https://github.com/nottombrown/imagenet_stubs"
      ],
      "metadata": {
        "colab": {
          "base_uri": "https://localhost:8080/"
        },
        "id": "P_p_uYnaKhvh",
        "outputId": "f08aa7ef-fd7e-405d-8204-1da9349e66e0"
      },
      "execution_count": 28,
      "outputs": [
        {
          "output_type": "stream",
          "name": "stdout",
          "text": [
            "Collecting git+https://github.com/nottombrown/imagenet_stubs\n",
            "  Cloning https://github.com/nottombrown/imagenet_stubs to /tmp/pip-req-build-7ugcng_i\n",
            "  Running command git clone -q https://github.com/nottombrown/imagenet_stubs /tmp/pip-req-build-7ugcng_i\n",
            "Building wheels for collected packages: imagenet-stubs\n",
            "  Building wheel for imagenet-stubs (setup.py) ... \u001b[?25l\u001b[?25hdone\n",
            "  Created wheel for imagenet-stubs: filename=imagenet_stubs-0.0.7-py3-none-any.whl size=794839 sha256=26997155c560e75e8b1d4cb6920e8a33f06943846b30c709a46e03d115faa645\n",
            "  Stored in directory: /tmp/pip-ephem-wheel-cache-4p3d3shl/wheels/33/0f/5a/c83688c23a05eb9e88527a8944da56dbe007c86f534b0c1dad\n",
            "Successfully built imagenet-stubs\n",
            "Installing collected packages: imagenet-stubs\n",
            "Successfully installed imagenet-stubs-0.0.7\n"
          ]
        }
      ]
    },
    {
      "cell_type": "code",
      "source": [
        "# Below library from \"https://github.com/nottombrown/imagenet-stubs\"\n",
        "import imagenet_stubs\n",
        "from imagenet_stubs.imagenet_2012_labels import label_to_name\n",
        "max_pred_index = torch.argmax(pred)\n",
        "print('Index of predicted class of ImageNet is:', max_pred_index.item(), ',', 'Class name:', label_to_name(max_pred_index.item()))\n",
        "print(pred[0][max_pred_index])"
      ],
      "metadata": {
        "id": "VoBavWYCEkWo",
        "colab": {
          "base_uri": "https://localhost:8080/"
        },
        "outputId": "db72f068-c8d7-461e-d1b7-d7b4a5a56f0b"
      },
      "execution_count": 29,
      "outputs": [
        {
          "output_type": "stream",
          "name": "stdout",
          "text": [
            "Index of predicted class of ImageNet is: 430 , Class name: basketball\n",
            "tensor(38.3831, grad_fn=<SelectBackward0>)\n"
          ]
        }
      ]
    },
    {
      "cell_type": "code",
      "source": [
        "# compute the gradient of the output with respect to the parameters of the model\n",
        "pred[:, max_pred_index].backward()"
      ],
      "metadata": {
        "id": "htlE4W-ZDHc5"
      },
      "execution_count": 30,
      "outputs": []
    },
    {
      "cell_type": "code",
      "source": [
        "# pull the gradients out of the model\n",
        "gradients = vgg.get_activations_gradient()\n",
        "print(gradients.shape)"
      ],
      "metadata": {
        "id": "WTVGCwWIDHG4",
        "colab": {
          "base_uri": "https://localhost:8080/"
        },
        "outputId": "5b52ae2a-cea1-471a-9933-f8f83a0552e5"
      },
      "execution_count": 31,
      "outputs": [
        {
          "output_type": "stream",
          "name": "stdout",
          "text": [
            "torch.Size([1, 512, 14, 14])\n"
          ]
        }
      ]
    },
    {
      "cell_type": "code",
      "source": [
        "# pool the gradients across the channels\n",
        "pooled_gradients = torch.mean(gradients, dim=[0, 2, 3])     # from this we get expression 1 of paper\n",
        "pooled_gradients_shape = list(pooled_gradients.shape)\n",
        "print('number of importance weights:', pooled_gradients_shape[0])"
      ],
      "metadata": {
        "id": "4QXGePeGDMUt",
        "colab": {
          "base_uri": "https://localhost:8080/"
        },
        "outputId": "6b7b3eb7-cc35-4c97-a511-d2f1874a4549"
      },
      "execution_count": 32,
      "outputs": [
        {
          "output_type": "stream",
          "name": "stdout",
          "text": [
            "number of importance weights: 512\n"
          ]
        }
      ]
    },
    {
      "cell_type": "code",
      "source": [
        "# get the activations of the last convolutional layer and\n",
        "# detach the output from the computational graph. So that no gradient will be backpropagated along this last convolutional layer.\n",
        "activations = vgg.get_activations(img).detach()\n",
        "print('shape of activation map:', activations.shape)"
      ],
      "metadata": {
        "id": "0EqAK5tfDMSB",
        "colab": {
          "base_uri": "https://localhost:8080/"
        },
        "outputId": "789bfbd1-e78d-45db-8b73-89950d1e3c02"
      },
      "execution_count": 38,
      "outputs": [
        {
          "output_type": "stream",
          "name": "stdout",
          "text": [
            "shape of activation map: torch.Size([1, 512, 14, 14])\n"
          ]
        }
      ]
    },
    {
      "cell_type": "code",
      "source": [
        "# weight the channels by corresponding gradients\n",
        "for i in range(pooled_gradients_shape[0]):\n",
        "    activations[:, i, :, :] *= pooled_gradients[i]"
      ],
      "metadata": {
        "id": "vHIwh-N-DMPH"
      },
      "execution_count": 39,
      "outputs": []
    },
    {
      "cell_type": "code",
      "source": [
        "# average the channels of the activations\n",
        "heatmap = torch.mean(activations, dim=1).squeeze()\n",
        "print(heatmap.shape)"
      ],
      "metadata": {
        "id": "Q0f4LqU3QboZ",
        "colab": {
          "base_uri": "https://localhost:8080/"
        },
        "outputId": "1bc63051-e2d9-49ad-e321-e44a67d16ccb"
      },
      "execution_count": 40,
      "outputs": [
        {
          "output_type": "stream",
          "name": "stdout",
          "text": [
            "torch.Size([14, 14])\n"
          ]
        }
      ]
    },
    {
      "cell_type": "code",
      "source": [
        "# relu on top of the heatmap\n",
        "heatmap = np.maximum(heatmap, 0)        # from this we get expression 2 of paper"
      ],
      "metadata": {
        "id": "X20D1T8kQd8f"
      },
      "execution_count": 41,
      "outputs": []
    },
    {
      "cell_type": "code",
      "source": [
        "# normalize the heatmap\n",
        "heatmap /= torch.max(heatmap)"
      ],
      "metadata": {
        "id": "mHQAUnejQdzo"
      },
      "execution_count": 42,
      "outputs": []
    },
    {
      "cell_type": "code",
      "source": [
        "# draw the heatmap\n",
        "fig, ax = plt.subplots()\n",
        "cax = ax.matshow(heatmap.squeeze())\n",
        "fig.colorbar(cax)"
      ],
      "metadata": {
        "id": "UlRCXUJvqnrj",
        "colab": {
          "base_uri": "https://localhost:8080/",
          "height": 288
        },
        "outputId": "5797eb96-b192-43c1-834e-f229a91ce775"
      },
      "execution_count": 43,
      "outputs": [
        {
          "output_type": "execute_result",
          "data": {
            "text/plain": [
              "<matplotlib.colorbar.Colorbar at 0x7fbca2081a10>"
            ]
          },
          "metadata": {},
          "execution_count": 43
        },
        {
          "output_type": "display_data",
          "data": {
            "image/png": "[encoded data removed]",
            "text/plain": [
              "<Figure size 432x288 with 2 Axes>"
            ]
          },
          "metadata": {
            "needs_background": "light"
          }
        }
      ]
    },
    {
      "cell_type": "code",
      "source": [
        "# Creating and saving supperimposed image of original and heatmap\n",
        "img = cv2.imread(os.path.join(folder,filename))\n",
        "heatmap = cv2.resize(heatmap.numpy(), (img.shape[1], img.shape[0]), interpolation= cv2.INTER_LINEAR)\n",
        "heatmap = np.uint8(255 * heatmap)\n",
        "heatmap = cv2.applyColorMap(heatmap, cv2.COLORMAP_JET)\n",
        "superimposed_img = heatmap * 0.4 + img\n",
        "cv2.imwrite('./Grad-CAM_image.jpg', superimposed_img)"
      ],
      "metadata": {
        "id": "2ytg_mFQqqej"
      },
      "execution_count": null,
      "outputs": []
    },
    {
      "cell_type": "code",
      "source": [
        "# Displaying original and superimposed image\n",
        "from IPython.display import Image\n",
        "display(Image(os.path.join(folder,filename)))\n",
        "display(Image('./Grad-CAM_image.jpg'))"
      ],
      "metadata": {
        "id": "Eub-D1N6vNds"
      },
      "execution_count": null,
      "outputs": []
    },
    {
      "cell_type": "markdown",
      "source": [
        "## Operations Example"
      ],
      "metadata": {
        "id": "usla2PjoLQEY"
      }
    },
    {
      "cell_type": "code",
      "source": [
        "a = torch.tensor([[[[-2.,10],[4,40],[6,60],[8,80],[10,100]],\n",
        "                   [[-3,30],[6,60],[9,90],[12,120],[15,150]],\n",
        "                   [[-4,40],[8,80],[12,120],[16,160],[20,200]],\n",
        "                   [[-5,50],[10,100],[15,150],[20,200],[25,250]],\n",
        "                   [[-6,60],[12,120],[18,180],[24,240],[30,300]],\n",
        "                   [[-7,70],[14,140],[21,210],[28,280],[35,350]]]])\n",
        "for i in range(list(a.shape)[0]):\n",
        "    print(a[:, 0, :, :])\n",
        "print(a.shape)\n",
        "b = torch.mean(a, dim=1).squeeze()\n",
        "c = torch.mean(a, dim=1).squeeze()\n",
        "print(b)\n",
        "print(c)\n",
        "b = np.maximum(b, 0)\n",
        "print(b)\n",
        "b /= torch.max(b)\n",
        "print(b)\n",
        "plt.matshow(b.squeeze())\n",
        "\n",
        "d = np.uint8(255 * b)\n",
        "print(d)"
      ],
      "metadata": {
        "id": "5G9BGQ1ELTg-"
      },
      "execution_count": null,
      "outputs": []
    }
  ]
}